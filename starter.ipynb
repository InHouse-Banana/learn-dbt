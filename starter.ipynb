{
 "cells": [
  {
   "cell_type": "code",
   "execution_count": null,
   "metadata": {},
   "outputs": [],
   "source": [
    "ALTER WAREHOUSE \"TRANSFORM_WH\" SET WAREHOUSE_SIZE = 'XSMALL' AUTO_SUSPEND = 60 AUTO_RESUME = TRUE MIN_CLUSTER_COUNT = 1 MAX_CLUSTER_COUNT = 2 SCALING_POLICY = 'STANDARD' COMMENT = 'SQL_CREATION'\n",
    "\n",
    "transform_role"
   ]
  },
  {
   "cell_type": "code",
   "execution_count": null,
   "metadata": {},
   "outputs": [],
   "source": [
    "grant create schema on dataBASE ANALYTICS TO ROLE TRANSFORM_ROLE;\n",
    "grant usage on all schemas in database analytics to role transform_role;\n",
    "grant usage on future schemas in database analytics to role transform_role;\n",
    "grant select on all tables in database analytics to role transform_role;\n",
    "grant select on future tables in database analytics to role transform_role;\n",
    "grant select on all views in database analytics to role transform_role;\n",
    "grant select on future views in database analytics to role transform_role;\n",
    "\n"
   ]
  }
 ],
 "metadata": {
  "kernelspec": {
   "display_name": "Python 3",
   "language": "python",
   "name": "python3"
  },
  "language_info": {
   "name": "python",
   "version": "3.8.16"
  }
 },
 "nbformat": 4,
 "nbformat_minor": 2
}
